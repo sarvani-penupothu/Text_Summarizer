{
  "nbformat": 4,
  "nbformat_minor": 0,
  "metadata": {
    "colab": {
      "provenance": [],
      "authorship_tag": "ABX9TyOhVDL/FZxhp8DLyRxsCPaC",
      "include_colab_link": true
    },
    "kernelspec": {
      "name": "python3",
      "display_name": "Python 3"
    },
    "language_info": {
      "name": "python"
    }
  },
  "cells": [
    {
      "cell_type": "markdown",
      "metadata": {
        "id": "view-in-github",
        "colab_type": "text"
      },
      "source": [
        "<a href=\"https://colab.research.google.com/github/sarvani-penupothu/Text_Summarizer/blob/main/Extractive.ipynb\" target=\"_parent\"><img src=\"https://colab.research.google.com/assets/colab-badge.svg\" alt=\"Open In Colab\"/></a>"
      ]
    },
    {
      "cell_type": "code",
      "source": [
        "!pip install nltk"
      ],
      "metadata": {
        "colab": {
          "base_uri": "https://localhost:8080/"
        },
        "id": "7mwEeumhy8nE",
        "outputId": "03e29857-9e5b-4dcf-f505-89d0c7878c7d"
      },
      "execution_count": null,
      "outputs": [
        {
          "output_type": "stream",
          "name": "stdout",
          "text": [
            "Requirement already satisfied: nltk in /usr/local/lib/python3.10/dist-packages (3.9.1)\n",
            "Requirement already satisfied: click in /usr/local/lib/python3.10/dist-packages (from nltk) (8.1.7)\n",
            "Requirement already satisfied: joblib in /usr/local/lib/python3.10/dist-packages (from nltk) (1.4.2)\n",
            "Requirement already satisfied: regex>=2021.8.3 in /usr/local/lib/python3.10/dist-packages (from nltk) (2024.9.11)\n",
            "Requirement already satisfied: tqdm in /usr/local/lib/python3.10/dist-packages (from nltk) (4.66.6)\n"
          ]
        }
      ]
    },
    {
      "cell_type": "code",
      "execution_count": null,
      "metadata": {
        "id": "N5NsWXH7w_sg"
      },
      "outputs": [],
      "source": [
        "import nltk\n",
        "import re\n",
        "from sklearn.feature_extraction.text import TfidfVectorizer\n",
        "from nltk.tokenize import sent_tokenize, word_tokenize\n",
        "from nltk.corpus import stopwords"
      ]
    },
    {
      "cell_type": "code",
      "source": [
        "nltk.download(\"punkt_tab\")\n",
        "nltk.download(\"stopwords\")"
      ],
      "metadata": {
        "colab": {
          "base_uri": "https://localhost:8080/"
        },
        "id": "t07EI9b6xkpL",
        "outputId": "519ce7d4-f4c9-414c-f3d3-a2ba494d9440"
      },
      "execution_count": null,
      "outputs": [
        {
          "output_type": "stream",
          "name": "stderr",
          "text": [
            "[nltk_data] Downloading package punkt_tab to /root/nltk_data...\n",
            "[nltk_data]   Unzipping tokenizers/punkt_tab.zip.\n",
            "[nltk_data] Downloading package stopwords to /root/nltk_data...\n",
            "[nltk_data]   Package stopwords is already up-to-date!\n"
          ]
        },
        {
          "output_type": "execute_result",
          "data": {
            "text/plain": [
              "True"
            ]
          },
          "metadata": {},
          "execution_count": 13
        }
      ]
    },
    {
      "cell_type": "code",
      "source": [
        "def preprocess_text(text):\n",
        "    text = re.sub(r'\\s+', ' ', re.sub(r'[^a-zA-Z0-9\\s]', '', text))\n",
        "    return text"
      ],
      "metadata": {
        "id": "3xpBx8dwxn3n"
      },
      "execution_count": null,
      "outputs": []
    },
    {
      "cell_type": "code",
      "source": [
        "def tokenize_sentences(text):\n",
        "    return sent_tokenize(text)"
      ],
      "metadata": {
        "id": "pBbDxY3cxqpX"
      },
      "execution_count": null,
      "outputs": []
    },
    {
      "cell_type": "code",
      "source": [
        "def calculate_sentence_scores(sentences, text):\n",
        "    stop_words = set(stopwords.words(\"english\"))\n",
        "    preprocessed_sentences = [preprocess_text(sentence) for sentence in sentences]\n",
        "\n",
        "    vectorizer = TfidfVectorizer(stop_words=\"english\")\n",
        "    tfidf_matrix = vectorizer.fit_transform(preprocessed_sentences)\n",
        "\n",
        "    sentence_scores = tfidf_matrix.sum(axis=1).A1\n",
        "    sentence_score_dict = {i: sentence_scores[i] for i in range(len(sentences))}\n",
        "    return sentence_score_dict"
      ],
      "metadata": {
        "id": "aspTdd_AxtYW"
      },
      "execution_count": null,
      "outputs": []
    },
    {
      "cell_type": "code",
      "source": [
        "def generate_summary(text, num_sentences=3):\n",
        "    sentences = tokenize_sentences(text)\n",
        "    sentence_scores = calculate_sentence_scores(sentences, text)\n",
        "\n",
        "    ranked_sentences = sorted(sentence_scores.keys(), key=lambda x: sentence_scores[x], reverse=True)\n",
        "\n",
        "    top_sentences = [sentences[i] for i in ranked_sentences[:num_sentences]]\n",
        "    summary = \" \".join(top_sentences)\n",
        "    return summary"
      ],
      "metadata": {
        "id": "1CeAjrgVx0rK"
      },
      "execution_count": null,
      "outputs": []
    },
    {
      "cell_type": "code",
      "source": [
        "if __name__ == \"__main__\":\n",
        "    # Input text\n",
        "    input_text = \"\"\"\n",
        "    Text summarization is usually implemented by natural language processing methods,\n",
        "    designed to locate the most informative sentences in a given document.\n",
        "    On the other hand, visual content can be summarized using computer vision algorithms.\n",
        "    Image summarization is the subject of ongoing research;\n",
        "    existing approaches typically attempt to display the most representative images from a given image collection,\n",
        "    or generate a video that only includes the most important content from the entire collection.\n",
        "    Video summarization algorithms identify and extract from the original video content the most important frames (key-frames),\n",
        "    and/or the most important video segments (key-shots),\n",
        "    normally in a temporally ordered fashion.\n",
        "    Video summaries simply retain a carefully selected subset of the original video frames and,\n",
        "    therefore, are not identical to the output of video synopsis algorithms,\n",
        "    where new video frames are being synthesized based on the original video content.\n",
        "    \"\"\"\n",
        "\n",
        "    # Generate the summary\n",
        "    summary = generate_summary(input_text, num_sentences=2)\n",
        "    print(\"Original Text:\\n\", input_text)\n",
        "    print(\"\\nGenerated Summary:\\n\", summary)\n"
      ],
      "metadata": {
        "colab": {
          "base_uri": "https://localhost:8080/"
        },
        "id": "LIyhPewux7fG",
        "outputId": "f2dda4fd-db11-4bb5-9218-e949d1b90738"
      },
      "execution_count": null,
      "outputs": [
        {
          "output_type": "stream",
          "name": "stdout",
          "text": [
            "Original Text:\n",
            " \n",
            "    Text summarization is usually implemented by natural language processing methods,\n",
            "    designed to locate the most informative sentences in a given document. \n",
            "    On the other hand, visual content can be summarized using computer vision algorithms. \n",
            "    Image summarization is the subject of ongoing research; \n",
            "    existing approaches typically attempt to display the most representative images from a given image collection, \n",
            "    or generate a video that only includes the most important content from the entire collection.\n",
            "    Video summarization algorithms identify and extract from the original video content the most important frames (key-frames),\n",
            "    and/or the most important video segments (key-shots), \n",
            "    normally in a temporally ordered fashion.\n",
            "    Video summaries simply retain a carefully selected subset of the original video frames and, \n",
            "    therefore, are not identical to the output of video synopsis algorithms,\n",
            "    where new video frames are being synthesized based on the original video content.\n",
            "    \n",
            "\n",
            "Generated Summary:\n",
            " Image summarization is the subject of ongoing research; \n",
            "    existing approaches typically attempt to display the most representative images from a given image collection, \n",
            "    or generate a video that only includes the most important content from the entire collection. Video summarization algorithms identify and extract from the original video content the most important frames (key-frames),\n",
            "    and/or the most important video segments (key-shots), \n",
            "    normally in a temporally ordered fashion.\n"
          ]
        }
      ]
    }
  ]
}